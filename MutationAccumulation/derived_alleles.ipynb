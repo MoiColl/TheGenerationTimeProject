{
 "cells": [
  {
   "cell_type": "markdown",
   "metadata": {},
   "source": [
    "<a name=\"H\"></a>\n",
    "# Accumulation and mutation spectrum of derived alleles\n",
    "\n",
    "In this notebook it is shown how to reproduce the results in (X). First, polymorphic sites are called in the Simons Genome Diversity Project (SGDP) dataset ([Mallick S et al, 2016](https://doi.org/10.1038/nature18964)) using [`cpoly`](https://github.com/DReichLab/cTools) program. Then, the different filters will be applied (see below) to get polymorphic sites that were accumulated likely after the Out of Africa and outside archaic introgressed regions. Finally, the results and plots from (X) are displayed. \n",
    "\n",
    "As example, the crhomsome 22 is generaly used throught the notebook. The same methods can be applied for the rest of the genome.\n",
    "\n",
    "## Contents\n",
    "\n",
    "1. [ Library and packages ](#Lib)\n",
    "2. [ Polymorphic sites per chromosome in SGDP with cpoly ](#SNPs)\n",
    "3. [ Masked regions ](#Mask)\n",
    "4. [ Derived allele counts per mutation type ](#Der)\n",
    "    - 4.1. [ Load reference genomes ](#Ref)\n",
    "    - 4.2. [ ind, snp and geno files ](#Dat)\n",
    "    - 4.3. [ Filters ](#Fil)\n",
    "    - 4.4. [ Mutation types per individual ](#Mut)\n",
    "5. [ References ](#Bib)\n",
    "\n",
    "<a name=\"Lib\"></a>\n",
    "## 1. Library and packages\n",
    "\n",
    "Python packages"
   ]
  },
  {
   "cell_type": "code",
   "execution_count": 1,
   "metadata": {},
   "outputs": [],
   "source": [
    "from collections import defaultdict\n",
    "import numpy as np\n",
    "\n",
    "%load_ext rpy2.ipython"
   ]
  },
  {
   "cell_type": "code",
   "execution_count": 2,
   "metadata": {},
   "outputs": [
    {
     "name": "stderr",
     "output_type": "stream",
     "text": [
      "R[write to console]: -- Attaching packages --------------------------------------- tidyverse 1.2.1 --\n",
      "\n",
      "R[write to console]: v ggplot2 3.3.2     v purrr   0.3.4\n",
      "v tibble  3.0.1     v dplyr   1.0.0\n",
      "v tidyr   1.1.0     v stringr 1.4.0\n",
      "v readr   1.3.1     v forcats 0.5.0\n",
      "\n",
      "R[write to console]: -- Conflicts ------------------------------------------ tidyverse_conflicts() --\n",
      "x dplyr::filter() masks stats::filter()\n",
      "x dplyr::lag()    masks stats::lag()\n",
      "\n"
     ]
    }
   ],
   "source": [
    "%%R\n",
    "\n",
    "library(tidyverse)\n",
    "library(ggplot2)"
   ]
  },
  {
   "cell_type": "markdown",
   "metadata": {},
   "source": [
    "[<img src=\"arrow.png\" width=\"100\" style=\"float: left;\">](#H) &nbsp;\n",
    "\n",
    "&nbsp;\n",
    "\n",
    "<a name=\"SNPs\"></a>\n",
    "## 2. Polymorphic sites per chromosome in SGDP with cpoly\n",
    "\n",
    "The polymorphic sites of the SGDP data ([Mallick S et al, 2016](https://doi.org/10.1038/nature18964)) are pulled using [`cpoly`](https://github.com/DReichLab/cTools), which is part of a set of tools (Ctools) to handle SGDP data, released with in the same publication.\n",
    "\n",
    "The program requires two files to run:\n",
    "\n",
    "1. `.par` file: The parameter file that indicates specific parameters.\n",
    "2. `.ind` file: The individual file that indicates which individuals the polymorphic sites are going to be pulled from.\n",
    "\n",
    "[`SGDP_22.par`](SGDP_22.par) and [`SGDP.ind`](SGDP.ind) files are examples used to run `cpoly` on chromosome 22 for a subset of all individuals in SGDP."
   ]
  },
  {
   "cell_type": "code",
   "execution_count": 3,
   "metadata": {},
   "outputs": [
    {
     "name": "stdout",
     "output_type": "stream",
     "text": [
      "indivname:\tSGDP.ind\n",
      "indivoutname:\tSGDP_22.ind\n",
      "snpoutname:\tSGDP_22.snp\n",
      "genooutname:\tSGDP_22.geno\n",
      "dbhetfa:\thetfa.dblist\n",
      "dbmask:\tmask.dblist\n",
      "chrom:\t22\n",
      "minfilterval:\t1\n",
      "polarize:\tHref\n"
     ]
    }
   ],
   "source": [
    "%%bash\n",
    "\n",
    "cat SGDP_22.par"
   ]
  },
  {
   "cell_type": "code",
   "execution_count": 4,
   "metadata": {},
   "outputs": [
    {
     "name": "stdout",
     "output_type": "stream",
     "text": [
      "Href\tM\thg19ref\n",
      "S_Abkhasian-1\tM\tWestEurasia\n",
      "S_Abkhasian-2\tM\tWestEurasia\n",
      "S_Adygei-1\tM\tWestEurasia\n",
      "S_Adygei-2\tF\tWestEurasia\n",
      "S_Albanian-1\tF\tWestEurasia\n",
      "S_Aleut-1\tM\tCentralAsiaSiberia\n",
      "S_Aleut-2\tF\tCentralAsiaSiberia\n",
      "S_Altaian-1\tM\tCentralAsiaSiberia\n",
      "S_Ami-1\tM\tEastAsia\n"
     ]
    }
   ],
   "source": [
    "%%bash\n",
    "\n",
    "head SGDP.ind"
   ]
  },
  {
   "cell_type": "markdown",
   "metadata": {},
   "source": [
    "`cpoly` was run with the following comand:\n",
    "\n"
   ]
  },
  {
   "cell_type": "raw",
   "metadata": {},
   "source": [
    "$ cpoly -p SGDP_22.par"
   ]
  },
  {
   "cell_type": "markdown",
   "metadata": {},
   "source": [
    "The program outputs 3 files:\n",
    "\n",
    "1. `.ind` file: contains the list of individuals used by cpoly. Number of indidivuals = $i$.\n",
    "2. `.snp` file: contains the list of polymorphic sites found by cpoly and it's basic information (position, reference allele, alternative allele). Number of indidivuals = $s$.\n",
    "3. `.geno` file: matrix of dimentions ($s$, $i$) with the genotypes (0 : alternative allele homozygote, 1 : heterozygote, 2: reference allele homozygote, 9 : noncallable) of each individual, with the same order as indicated in the `.ind`, for each polymorphic site, with the same order as indicated in the `.snp`. \n"
   ]
  },
  {
   "cell_type": "code",
   "execution_count": 5,
   "metadata": {},
   "outputs": [
    {
     "name": "stdout",
     "output_type": "stream",
     "text": [
      "Href\tM\thg19ref\n",
      "S_Abkhasian-1\tM\tWestEurasia\n",
      "S_Abkhasian-2\tM\tWestEurasia\n",
      "S_Adygei-1\tM\tWestEurasia\n",
      "S_Adygei-2\tF\tWestEurasia\n",
      "S_Albanian-1\tF\tWestEurasia\n",
      "S_Aleut-1\tM\tCentralAsiaSiberia\n",
      "S_Aleut-2\tF\tCentralAsiaSiberia\n",
      "S_Altaian-1\tM\tCentralAsiaSiberia\n",
      "S_Ami-1\tM\tEastAsia\n"
     ]
    }
   ],
   "source": [
    "%%bash\n",
    "\n",
    "head SGDP_22.ind"
   ]
  },
  {
   "cell_type": "code",
   "execution_count": 6,
   "metadata": {},
   "outputs": [
    {
     "name": "stdout",
     "output_type": "stream",
     "text": [
      " X:22_16855028   22 0     16855028 G T\n",
      " X:22_16855618   22 0     16855618 G A\n",
      " X:22_16959041   22 0     16959041 G C\n",
      " X:22_16959043   22 0     16959043 G T\n",
      " X:22_16959063   22 0     16959063 G C\n",
      " X:22_16959070   22 0     16959070 G T\n",
      " X:22_16959133   22 0     16959133 C T\n",
      " X:22_17003679   22 0     17003679 A G\n",
      " X:22_17003695   22 0     17003695 C T\n",
      " X:22_17015603   22 0     17015603 G A\n"
     ]
    }
   ],
   "source": [
    "%%bash\n",
    "\n",
    "head SGDP_22.snp"
   ]
  },
  {
   "cell_type": "code",
   "execution_count": 7,
   "metadata": {},
   "outputs": [
    {
     "name": "stdout",
     "output_type": "stream",
     "text": [
      "2222222222222222222222222222222222222222222222222222922992222222292222922222222222222222222292222222922922222222229292222222222222222222222222292222229929222222222222222222222222222222222222222222922292229222292222212222299222222922222\n",
      "2111100221102101221122100012100111111212020200212012921991212212292122022002112111110112111121212292291921212111221291222911012122211212211201111111221191022010291122212021211220092011210101011211122911291111211020022222922229101292222\n",
      "2222229292999299999222929299299222929922292922992929299929229922929922299229922222229229222292229922292299922292292992922222922229222922922929229992929992299992922292222999229929299222299222922999292992291922992912229922292299229992229\n"
     ]
    }
   ],
   "source": [
    "%%bash\n",
    "\n",
    "head -n 3 SGDP_22.geno"
   ]
  },
  {
   "cell_type": "markdown",
   "metadata": {},
   "source": [
    "[<img src=\"arrow.png\" width=\"100\" style=\"float: left;\">](#H) &nbsp;\n",
    "\n",
    "&nbsp;\n",
    "\n",
    "<a name=\"Mask\"></a>\n",
    "## 3. Masked regions\n",
    "\n",
    "In this section, the February 2009 human reference sequence (GRCh37) will be obtained with repeatitive regions and archaic introgressed regions masked.\n",
    "\n",
    "First, we download a reference sequence for each chromosome from http://hgdownload.cse.ucsc.edu/goldenPath/hg19/chromosomes/ in which the following is noted:\n",
    "\n",
    "*Repeats from RepeatMasker and Tandem Repeats Finder (with period of 12 or less) are shown in lower case; non-repeating sequence is shown in upper case. RepeatMasker was run with the -s (sensitive) setting. Using: Jan 29 2009 (open-3-2-7) version of RepeatMasker and RELEASE 20090120 of library RepeatMaskerLib.embl*\n",
    "\n",
    "\n",
    "The following command was used to download the reference chromosome 22:"
   ]
  },
  {
   "cell_type": "raw",
   "metadata": {},
   "source": [
    "$ rsync -avzP rsync://hgdownload.cse.ucsc.edu/goldenPath/hg19/chromosomes/chr22.fa.gz .\n",
    "$ gunzip chr22.fa.gz"
   ]
  },
  {
   "cell_type": "markdown",
   "metadata": {},
   "source": [
    "We then obtained the regions with evidence of archaic introgression by merging all fragments from chromosome 22 in all individuals used in this section (check [SGDP.ind](SGDP.ind)) from `Data1_archaicfragments.txt` with the following [bedtools](https://bedtools.readthedocs.io/en/latest/) (v2.29.2) ([Aaron R et al, 2010](https://doi.org/10.1093/bioinformatics/btq033)) command:"
   ]
  },
  {
   "cell_type": "code",
   "execution_count": 8,
   "metadata": {},
   "outputs": [
    {
     "name": "stdout",
     "output_type": "stream",
     "text": [
      "chr22\t17257000\t17443000\n",
      "chr22\t17468000\t17676000\n",
      "chr22\t17679000\t17761000\n",
      "chr22\t17782000\t18082000\n",
      "chr22\t18250000\t18263000\n",
      "chr22\t18295000\t18379000\n",
      "chr22\t18434000\t18452000\n",
      "chr22\t18458000\t18484000\n",
      "chr22\t18499000\t18523000\n",
      "chr22\t18524000\t18534000\n"
     ]
    }
   ],
   "source": [
    "%%bash\n",
    "\n",
    "awk '{if(NR > 1 && $2 != \"WHG\" && $2 != \"LBK\" && $2 != \"Ust_ishim\" && $3 == 22){print \"chr\"$3\"\\t\"$4\"\\t\"$5}}' Data1_archaicfragments.txt | sort -k1n -k2n -k3n | bedtools merge -i - | head"
   ]
  },
  {
   "cell_type": "markdown",
   "metadata": {},
   "source": [
    "and masked those regions from the reference chromosome 22 fasta file:"
   ]
  },
  {
   "cell_type": "code",
   "execution_count": 9,
   "metadata": {},
   "outputs": [],
   "source": [
    "%%bash\n",
    "\n",
    "bedtools maskfasta -fi chr22.fa \\\n",
    "                   -bed <(awk '{if(NR > 1 && $2 != \"WHG\" && $2 != \"LBK\" && $2 != \"Ust_ishim\" && $3 == 22){print \"chr\"$3\"\\t\"$4\"\\t\"$5}}' Data1_archaicfragments.txt | sort -k1n -k2n -k3n | bedtools merge -i -) \\\n",
    "                   -fo chr22_masked.fa"
   ]
  },
  {
   "cell_type": "markdown",
   "metadata": {},
   "source": [
    "Finally, the file [`chr22_masked.fa`](chr22_masked.fa) would have both repetitive regions and archaic-introgressed regions masked.  "
   ]
  },
  {
   "cell_type": "markdown",
   "metadata": {},
   "source": [
    "[<img src=\"arrow.png\" width=\"100\" style=\"float: left;\">](#H) &nbsp;\n",
    "\n",
    "&nbsp;\n",
    "\n",
    "<a name=\"Der\"></a>\n",
    "## 4. Derived allele counts per mutation type\n",
    "\n",
    "With the data produced, we can count the number of derived alleles accumulated after the out of Africa and outside repeatitive regions and outside archaic-introgression regions. These, will be distributed into the different mutation types taking into account the mutation context (5' and 3' base pairs surrounding the focal SNP).\n",
    "\n",
    "[<img src=\"arrow.png\" width=\"100\" style=\"float: left;\">](#H) &nbsp;\n",
    "\n",
    "&nbsp;\n",
    "\n",
    "<a name=\"Ref\"></a>\n",
    "### 4.1. Load reference genomes\n",
    "\n",
    "The human reference chromosome 22 with masked regions and the chimpanzee reference chromosome 22 (provided by SGDP) are load into memory."
   ]
  },
  {
   "cell_type": "code",
   "execution_count": 10,
   "metadata": {},
   "outputs": [],
   "source": [
    "def ref_fasta(ref, chrom):\n",
    "    '''\n",
    "    This function will read a fasta file (ref), look for a chromosome (chrom) and output\n",
    "    a string with the fasta sequence.\n",
    "    '''\n",
    "    fasta = \"\"\n",
    "    with open(\"{}\".format(ref), \"r\") as file:\n",
    "        for line in file: \n",
    "            if line[0] == \">\":\n",
    "                c = line.strip().split(\" \")[0][1:]\n",
    "            else:\n",
    "                if c == chrom or c == \"chr\"+chrom:\n",
    "                    fasta = fasta + line.strip()\n",
    "    return fasta\n",
    "\n",
    "href  = ref_fasta(\"chr22_masked.fa\", \"22\")\n",
    "chimp = ref_fasta(\"Chimp.fa\",        \"22\")"
   ]
  },
  {
   "cell_type": "code",
   "execution_count": 11,
   "metadata": {},
   "outputs": [
    {
     "data": {
      "text/plain": [
       "'GATCTGATAA'"
      ]
     },
     "execution_count": 11,
     "metadata": {},
     "output_type": "execute_result"
    }
   ],
   "source": [
    "href[16050000:16050010]"
   ]
  },
  {
   "cell_type": "markdown",
   "metadata": {},
   "source": [
    "[<img src=\"arrow.png\" width=\"100\" style=\"float: left;\">](#H) &nbsp;\n",
    "\n",
    "&nbsp;\n",
    "\n",
    "<a name=\"Dat\"></a>\n",
    "### 4.2. ind, snp and geno files\n",
    "\n",
    "From the `.ind` file, we extract three lists:\n",
    "\n",
    "1. `ind` : with the individual names\n",
    "2. `reg` : the regions the individuals with the same index in the `ind` list belong to\n",
    "3. `afr` : index of the african individuals"
   ]
  },
  {
   "cell_type": "code",
   "execution_count": 12,
   "metadata": {},
   "outputs": [],
   "source": [
    "ind = []\n",
    "sex = []\n",
    "reg = []\n",
    "afr = []\n",
    "\n",
    "with open(\"SGDP_22.ind\") as file:\n",
    "    for i, line in enumerate(file):\n",
    "        ind.append(line.strip().split()[0])\n",
    "        sex.append(line.strip().split()[1])\n",
    "        reg.append(line.strip().split()[2])\n",
    "        if line.strip().split()[2] == \"Africa\":\n",
    "            afr.append(i)"
   ]
  },
  {
   "cell_type": "code",
   "execution_count": 13,
   "metadata": {},
   "outputs": [
    {
     "name": "stdout",
     "output_type": "stream",
     "text": [
      "['S_Ami-2', 'S_Armenian-1', 'S_Armenian-2', 'S_Atayal-1', 'S_Balochi-1', 'S_Balochi-2', 'S_BantuHerero-1', 'S_BantuHerero-2', 'S_BantuKenya-1', 'S_BantuKenya-2']\n",
      "['EastAsia', 'WestEurasia', 'WestEurasia', 'EastAsia', 'SouthAsia', 'SouthAsia', 'Africa', 'Africa', 'Africa', 'Africa']\n",
      "[16, 17, 18, 19, 20, 21, 30, 31, 52, 53]\n",
      "235\n"
     ]
    }
   ],
   "source": [
    "print(ind[10:20]) #Subset of the ind list\n",
    "print(reg[10:20]) #Corresponding subset of the reg list\n",
    "print(afr[:10])   #First 10 african individual indexes\n",
    "print(len(ind))   #Number of individuals"
   ]
  },
  {
   "cell_type": "markdown",
   "metadata": {},
   "source": [
    "From the `.snp` file, we will construct a two-level dictionary with different information:\n",
    "\n",
    "- The first level will be denoted by the index position of the SNP.\n",
    "- The second level will have the following possible keys:\n",
    "    1. \"ref\" : reference allele\n",
    "    2. \"alt\" : alternative allele\n",
    "    3. \"pos\" : genomic position of the SNP\n",
    "    4. \"anc\" : ancestral allele (polarized with the chimp reference genome)\n",
    "    5. \"der\" : derived allele (polarized with the chimp reference genome)\n",
    "    6. \"mut\" : mutation type as fiv+anc+thr>der. E.g. ACG>G. Strand complentary mutation types are collapsed, being C and T the ancestral alleles. Eg. CGT>C is strand complentary to ACG>G, thus this mutation type will be denoted as ACG>G.\n",
    "\n",
    "Another dictionary is constructed, `mut`, to keep which row indeces in the `.geno` file correspond to every mutation type."
   ]
  },
  {
   "cell_type": "code",
   "execution_count": 14,
   "metadata": {},
   "outputs": [],
   "source": [
    "called_bases = [\"A\", \"C\", \"T\", \"G\"]\n",
    "comp_base    = {\"A\" : \"T\",\n",
    "                \"T\" : \"A\",\n",
    "                \"C\" : \"G\",\n",
    "                \"G\" : \"C\"}\n",
    "\n",
    "def mut_type(fiv, anc, thr, der):\n",
    "    '''\n",
    "    Input:\n",
    "        - fiv: 5' nucleotide\n",
    "        - anc: ancestral nucleotide\n",
    "        - thr: 3' nucleotide\n",
    "        - der: derived nucleotide\n",
    "    Output:\n",
    "        - mutation type\n",
    "    '''\n",
    "    if anc in [\"C\", \"T\"]:\n",
    "        return fiv+anc+thr+\">\"+der\n",
    "    else:\n",
    "        return comp_base[thr]+comp_base[anc]+comp_base[fiv]+\">\"+comp_base[der]\n",
    "        \n",
    "\n",
    "snp = defaultdict(lambda : defaultdict(lambda : None))\n",
    "mut = defaultdict(lambda :  [])\n",
    "        \n",
    "with open(\"SGDP_22.snp\") as file:\n",
    "    for i, line in enumerate(file):\n",
    "        _, _, _, s, r, a = line.strip().split()\n",
    "        s = int(s)-1\n",
    "        snp[i][\"ref\"] = r\n",
    "        snp[i][\"alt\"] = a\n",
    "        snp[i][\"pos\"] = s\n",
    "        if href[s-1].upper() in called_bases and href[s] in called_bases and href[s+1].upper() in called_bases: #Checking if the position is not masked (Repetitive or archaic-introgressed region) and if the context (5' and 3' bases) are also called\n",
    "            if chimp[s] == snp[i][\"ref\"]: #Polarizing the derived and ancestral allele in respect to the chimp allele\n",
    "                snp[i][\"anc\"] = snp[i][\"ref\"]\n",
    "                snp[i][\"der\"] = snp[i][\"alt\"]\n",
    "            elif chimp[s] == snp[i][\"alt\"]: #Polarizing the derived and ancestral allele in respect to the chimp allele\n",
    "                snp[i][\"anc\"] = snp[i][\"alt\"]\n",
    "                snp[i][\"der\"] = snp[i][\"ref\"]\n",
    "        if snp[i][\"anc\"]:\n",
    "            snp[i][\"mut\"] = mut_type(href[s-1].upper(), snp[i][\"anc\"], href[s+1].upper(), snp[i][\"der\"]) #Define the mutation type\n",
    "            mut[snp[i][\"mut\"]].append(i)"
   ]
  },
  {
   "cell_type": "code",
   "execution_count": 15,
   "metadata": {},
   "outputs": [
    {
     "name": "stdout",
     "output_type": "stream",
     "text": [
      "[8791, 8793, 9010, 9021, 9077, 9091, 9129, 9157, 9172, 9216]\n",
      "defaultdict(<function <lambda>.<locals>.<lambda> at 0x2b24b284f820>, {'ref': 'A', 'alt': 'G', 'pos': 17053171, 'anc': 'A', 'der': 'G', 'mut': 'GTT>C'})\n",
      "345126\n"
     ]
    }
   ],
   "source": [
    "print(mut[\"TCC>T\"][:10]) # first 10 row-index corresponding to polymorphic sites which are TCC>T mutation types\n",
    "print(snp[18])           #Dictionary entry example\n",
    "print(len(snp))          #Number of SNPs"
   ]
  },
  {
   "cell_type": "markdown",
   "metadata": {},
   "source": [
    "The geno file is imported as a numpy array"
   ]
  },
  {
   "cell_type": "code",
   "execution_count": 16,
   "metadata": {},
   "outputs": [],
   "source": [
    "geno = []\n",
    "\n",
    "rev = {\"0\" : \"2\",\n",
    "       \"1\" : \"1\",\n",
    "       \"2\" : \"0\",\n",
    "       \"9\" : \"9\"}\n",
    "\n",
    "with open(\"SGDP_22.geno\") as file:\n",
    "    for i, line in enumerate(file):\n",
    "        if snp[i][\"anc\"] == snp[i][\"ref\"]:\n",
    "            geno.append([int(rev[g]) for g in line.strip()])\n",
    "        else:\n",
    "            geno.append([int(g) for g in line.strip()])\n",
    "\n",
    "geno = np.array(geno, dtype = \"int\")"
   ]
  },
  {
   "cell_type": "code",
   "execution_count": 17,
   "metadata": {},
   "outputs": [
    {
     "name": "stdout",
     "output_type": "stream",
     "text": [
      "[[2 2 2 ... 2 2 2]\n",
      " [2 1 1 ... 2 2 2]\n",
      " [2 2 2 ... 2 2 9]\n",
      " ...\n",
      " [2 2 9 ... 9 2 2]\n",
      " [2 2 9 ... 9 9 9]\n",
      " [2 9 9 ... 9 9 9]]\n",
      "(345126, 235)\n"
     ]
    }
   ],
   "source": [
    "print(geno)       #geno array\n",
    "print(geno.shape) #geno array shape, if correct, equal to the number of SNPs and number of individuals"
   ]
  },
  {
   "cell_type": "markdown",
   "metadata": {},
   "source": [
    "[<img src=\"arrow.png\" width=\"100\" style=\"float: left;\">](#H) &nbsp;\n",
    "\n",
    "&nbsp;\n",
    "\n",
    "<a name=\"Fil\"></a>\n",
    "### 4.3. Filters\n",
    "\n",
    "For every site, we applied certain filters:\n",
    "\n",
    "1. Polymorphic in africa: in order to focus on mutations accumulated after the out of Africa, we filter out positions for which the derived allele is present in Africa. \n",
    "2. Callability per position: a polymorphic site for which less than 20% of the individuals are called, they are filtered out.\n",
    "3. Masked, context noncallalbe or noncallable in chimp: if a position is in a masked region (repeat region or archaic-introgressed region), if its context (5' and 3' context) is noncallalbe or was not callalbe in chimps so it was not possible to polarize the alleles, then the position is going to be filtered out.\n",
    "\n",
    "The genotypes of every individual for positions that don't pass all filters are going to be changed by the number 9 which encodes for noncallalble genotype."
   ]
  },
  {
   "cell_type": "code",
   "execution_count": 18,
   "metadata": {},
   "outputs": [],
   "source": [
    "for i in range(geno.shape[0]):\n",
    "    filter = False\n",
    "    #1. CALLABILITY PER POSITION\n",
    "    if np.sum(geno[i, 1:] == 9)/(geno.shape[1]-1) > 0.2: # more than 20% of the individuals called (disregarding the Href)\n",
    "        filter = True\n",
    "    \n",
    "    #2. PRESENT IN AFRICA\n",
    "    if np.sum(geno[i, afr][geno[i, afr] != 9]) > 0: # if there is presence of the derived allele in any of the african individuals\n",
    "        filter = True\n",
    "\n",
    "    #3. MASKED, CONTEXT NONCALLALBE, NONCALLABLE IN CHIMP\n",
    "    if not snp[i][\"anc\"]: # if the snp does not have an associated ancestral allele, it means that one of the three conditions failed (check when the snp dictionary was constructed above)\n",
    "        filter = True\n",
    "        \n",
    "    if filter:\n",
    "        geno[i] = [9]*geno.shape[1] # if the site must be filtered out, the genotypes for every individual are changed to \"9\" (noncallable)\n"
   ]
  },
  {
   "cell_type": "code",
   "execution_count": 19,
   "metadata": {},
   "outputs": [
    {
     "data": {
      "text/plain": [
       "array([[9, 9, 9, ..., 9, 9, 9],\n",
       "       [9, 9, 9, ..., 9, 9, 9],\n",
       "       [9, 9, 9, ..., 9, 9, 9],\n",
       "       ...,\n",
       "       [9, 9, 9, ..., 9, 9, 9],\n",
       "       [9, 9, 9, ..., 9, 9, 9],\n",
       "       [9, 9, 9, ..., 9, 9, 9]])"
      ]
     },
     "execution_count": 19,
     "metadata": {},
     "output_type": "execute_result"
    }
   ],
   "source": [
    "geno"
   ]
  },
  {
   "cell_type": "markdown",
   "metadata": {},
   "source": [
    "[<img src=\"arrow.png\" width=\"100\" style=\"float: left;\">](#H) &nbsp;\n",
    "\n",
    "&nbsp;\n",
    "\n",
    "<a name=\"Mut\"></a>\n",
    "### 4.4. Mutation types per individual\n",
    "\n",
    "The following bit of code outputs the counts per individual for every mutaition type.\n"
   ]
  },
  {
   "cell_type": "code",
   "execution_count": 20,
   "metadata": {},
   "outputs": [],
   "source": [
    "out = open(\"counts_22.txt\", \"w\")\n",
    "\n",
    "out.write(\"\\t\".join([\"ind\", \"reg\", \"sex\", \"chrom\", \"fiv\", \"anc\", \"thr\", \"der\", \"count\"])+\"\\n\")\n",
    "\n",
    "for fiv in called_bases:\n",
    "    for anc in [\"C\", \"T\"]:\n",
    "        for thr in called_bases:\n",
    "            for der in called_bases:\n",
    "                for i in range(len(ind)):\n",
    "                    if reg[i] not in [\"Africa\", \"hg19ref\"]:\n",
    "                        out.write(\"\\t\".join( [ind[i], reg[i], sex[i], \"22\", fiv, anc, thr, der, str(np.sum(geno[mut[fiv+anc+thr+\">\"+der], i][geno[mut[fiv+anc+thr+\">\"+der], i] != 9]))])+\"\\n\")\n",
    "\n",
    "out.close()"
   ]
  },
  {
   "cell_type": "code",
   "execution_count": 21,
   "metadata": {},
   "outputs": [
    {
     "name": "stdout",
     "output_type": "stream",
     "text": [
      "ind\treg\tsex\tchrom\tfiv\tanc\tthr\tder\tcount\n",
      "S_Abkhasian-1\tWestEurasia\tM\t22\tA\tC\tA\tA\t0\n",
      "S_Abkhasian-2\tWestEurasia\tM\t22\tA\tC\tA\tA\t1\n",
      "S_Adygei-1\tWestEurasia\tM\t22\tA\tC\tA\tA\t0\n",
      "S_Adygei-2\tWestEurasia\tF\t22\tA\tC\tA\tA\t0\n",
      "S_Albanian-1\tWestEurasia\tF\t22\tA\tC\tA\tA\t0\n",
      "S_Aleut-1\tCentralAsiaSiberia\tM\t22\tA\tC\tA\tA\t1\n",
      "S_Aleut-2\tCentralAsiaSiberia\tF\t22\tA\tC\tA\tA\t0\n",
      "S_Altaian-1\tCentralAsiaSiberia\tM\t22\tA\tC\tA\tA\t2\n",
      "S_Ami-1\tEastAsia\tM\t22\tA\tC\tA\tA\t0\n"
     ]
    }
   ],
   "source": [
    "%%bash \n",
    "\n",
    "head counts_22.txt"
   ]
  },
  {
   "cell_type": "markdown",
   "metadata": {},
   "source": [
    "By repeating this process for all chromosomes, we obtain `mutation_spectrum.txt`"
   ]
  },
  {
   "cell_type": "code",
   "execution_count": 22,
   "metadata": {},
   "outputs": [
    {
     "name": "stdout",
     "output_type": "stream",
     "text": [
      "ind\treg\tchrom\tfiv\tanc\tthr\tder\tcount\n",
      "S_Abkhasian-1\tWestEurasia\t1\tA\tC\tA\tA\t17\n",
      "S_Abkhasian-2\tWestEurasia\t1\tA\tC\tA\tA\t13\n",
      "S_Adygei-1\tWestEurasia\t1\tA\tC\tA\tA\t21\n",
      "S_Adygei-2\tWestEurasia\t1\tA\tC\tA\tA\t24\n",
      "S_Albanian-1\tWestEurasia\t1\tA\tC\tA\tA\t27\n",
      "S_Aleut-1\tCentralAsiaSiberia\t1\tA\tC\tA\tA\t17\n",
      "S_Aleut-2\tCentralAsiaSiberia\t1\tA\tC\tA\tA\t21\n",
      "S_Altaian-1\tCentralAsiaSiberia\t1\tA\tC\tA\tA\t19\n",
      "S_Ami-1\tEastAsia\t1\tA\tC\tA\tA\t16\n"
     ]
    }
   ],
   "source": [
    "%%bash \n",
    "\n",
    "head mutation_spectrum.txt"
   ]
  },
  {
   "cell_type": "markdown",
   "metadata": {},
   "source": [
    "This file was obtained by running [`workflow.py`](workflow.py) with the [gwf](https://docs.gwf.app/) (version 1.7.1) software, which is a workflow tool that takes care of job dependencies and keeping track of pipeline completion. "
   ]
  },
  {
   "cell_type": "markdown",
   "metadata": {},
   "source": [
    "<a name=\"Bib\"></a>\n",
    "## 5. References\n",
    "\n",
    "1. Mallick, S., Li, H., Lipson, M. et al. The Simons Genome Diversity Project: 300 genomes from 142 diverse populations. Nature 538, 201–206 (2016). https://doi.org/10.1038/nature18964\n",
    "2. https://github.com/DReichLab/cTools\n",
    "3. Aaron R. Quinlan, Ira M. Hall, BEDTools: a flexible suite of utilities for comparing genomic features, Bioinformatics, Volume 26, Issue 6, 15 March 2010, Pages 841–842, https://doi.org/10.1093/bioinformatics/btq033\n",
    "4. https://docs.gwf.app/\n",
    "\n",
    "[<img src=\"arrow.png\" width=\"100\" style=\"float: left;\">](#H) &nbsp;\n",
    "\n",
    "&nbsp;"
   ]
  }
 ],
 "metadata": {
  "kernelspec": {
   "display_name": "Python 3",
   "language": "python",
   "name": "python3"
  },
  "language_info": {
   "codemirror_mode": {
    "name": "ipython",
    "version": 3
   },
   "file_extension": ".py",
   "mimetype": "text/x-python",
   "name": "python",
   "nbconvert_exporter": "python",
   "pygments_lexer": "ipython3",
   "version": "3.8.3"
  }
 },
 "nbformat": 4,
 "nbformat_minor": 4
}
